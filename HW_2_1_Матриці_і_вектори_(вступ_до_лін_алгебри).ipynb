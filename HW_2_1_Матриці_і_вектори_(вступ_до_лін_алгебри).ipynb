{
 "cells": [
  {
   "cell_type": "markdown",
   "metadata": {
    "id": "efug1V4CM0lT"
   },
   "source": [
    "### Завдання 1: Створення матриць та векторів\n",
    "1. Створіть `numpy` вектор `vector` розмірністю 10 з випадковими дійсними значеннями в діапазоні від 0 до 1. Можна скористатись двома альтернативними варіантами:\n",
    "  1. Генерація випадкових чисел з модулем [`random.uniform`](https://docs.python.org/3/library/random.html).\n",
    "  2. Створення вектора з допомогою метода `numpy` [np.random.rand](https://numpy.org/doc/stable/reference/random/generated/numpy.random.rand.html)\n",
    "\n",
    "2. Створіть матрицю `matrix` типу `numpy.array` розмірності 3x3 з наступними значеннями\n",
    "\n",
    "  $$\n",
    "  matrix = \\begin{bmatrix}\n",
    "  11 & 14 & 17 \\\\\n",
    "  20 & 23 & 26 \\\\\n",
    "  29 & 32 & 35\n",
    "  \\end{bmatrix}\n",
    "  $$\n",
    "\n",
    "  будь-яким відомими Вам способом.\n",
    "\n",
    "Виведіть на екран вектор і матрицю, а також їх розміри.\n"
   ]
  },
  {
   "cell_type": "code",
   "execution_count": 1,
   "metadata": {},
   "outputs": [],
   "source": [
    "import numpy as np"
   ]
  },
  {
   "cell_type": "code",
   "execution_count": 2,
   "metadata": {},
   "outputs": [
    {
     "name": "stdout",
     "output_type": "stream",
     "text": [
      "Вектор розмірністю 10 з випадковими дійсними значеннями в діапазоні від 0 до 1:\n",
      " [0.27853795 0.69646725 0.25728151 0.49103396 0.71722705 0.6153129\n",
      " 0.49197864 0.77976055 0.7250365  0.2345969 ]\n",
      "\n",
      "Розмір вектора: (10,)\n"
     ]
    }
   ],
   "source": [
    "vector = np.random.rand(10)\n",
    "print(f'Вектор розмірністю 10 з випадковими дійсними значеннями в діапазоні від 0 до 1:\\n {vector}')\n",
    "print(f'\\nРозмір вектора: {vector.shape}')"
   ]
  },
  {
   "cell_type": "code",
   "execution_count": 3,
   "metadata": {
    "id": "jxA_lG2_VIMe"
   },
   "outputs": [
    {
     "name": "stdout",
     "output_type": "stream",
     "text": [
      "Матриця: \n",
      "[[11 14 17]\n",
      " [20 23 26]\n",
      " [29 32 35]]\n",
      "\n",
      "Розмір матриці:  (3, 3)\n"
     ]
    }
   ],
   "source": [
    "matrix = np.arange(11, 36, 3).reshape(3,3)\n",
    "print(f'Матриця: \\n{matrix}')\n",
    "print('\\nРозмір матриці: ', matrix.shape)"
   ]
  },
  {
   "cell_type": "markdown",
   "metadata": {
    "id": "TSJ1P4OuOVe2"
   },
   "source": [
    "\n",
    "### Завдання 2: Операції над векторами та матрицями\n",
    "Виконайте кожну з зазначених операцій над зазначеними оʼєктами і виведіть результат на екран:\n",
    "1. Додайте до кожного значення вектора `vector` число 10 і округліть кожне значення до 2 знаків після коми без використання циклів.\n",
    "2. Помножте кожен елемент матриці з першого завдання на 2 без використання циклів.\n",
    "3. Створіть новий вектор, який містить квадрат кожного `vector` без циклів.\n"
   ]
  },
  {
   "cell_type": "markdown",
   "metadata": {},
   "source": [
    "###### 2.1. Додайте до кожного значення вектора vector число 10 і округліть кожне значення до 2 знаків після коми без використання циклів."
   ]
  },
  {
   "cell_type": "code",
   "execution_count": 4,
   "metadata": {
    "id": "nAAojtyUVJXN"
   },
   "outputs": [
    {
     "name": "stdout",
     "output_type": "stream",
     "text": [
      "[10.28 10.7  10.26 10.49 10.72 10.62 10.49 10.78 10.73 10.23]\n"
     ]
    }
   ],
   "source": [
    "print((vector+10).round(2))"
   ]
  },
  {
   "cell_type": "markdown",
   "metadata": {},
   "source": [
    "###### 2.2. Помножте кожен елемент матриці з першого завдання на 2 без використання циклів."
   ]
  },
  {
   "cell_type": "code",
   "execution_count": 5,
   "metadata": {},
   "outputs": [
    {
     "name": "stdout",
     "output_type": "stream",
     "text": [
      "[[22 28 34]\n",
      " [40 46 52]\n",
      " [58 64 70]]\n"
     ]
    }
   ],
   "source": [
    "print(matrix*2)"
   ]
  },
  {
   "cell_type": "markdown",
   "metadata": {},
   "source": [
    "###### 2.3. Створіть новий вектор, який містить квадрат кожного vector без циклів."
   ]
  },
  {
   "cell_type": "code",
   "execution_count": 6,
   "metadata": {},
   "outputs": [
    {
     "name": "stdout",
     "output_type": "stream",
     "text": [
      "[0.07758339 0.48506663 0.06619377 0.24111435 0.51441465 0.37860997\n",
      " 0.24204298 0.60802652 0.52567793 0.05503571]\n"
     ]
    }
   ],
   "source": [
    "vector_squared = vector**2\n",
    "print(vector_squared)"
   ]
  },
  {
   "cell_type": "markdown",
   "metadata": {
    "id": "u6RvWVfhPy-k"
   },
   "source": [
    "\n",
    "### Завдання 3: Множення матриць\n",
    "1. Задані дві матриці `A` і `B`розмірностями 3x2 та 2х3. Виконайте їхнє множення, щоб отримати матрицю 2x2. Виведіть результуючу матрицю `result_matrix` на екран.\n",
    "\n",
    "2. Заданий вектор `C` розмірністю 2х1. Подумайте спочатку, яку розмірність Ви отрмаєте, коли домножите `result_matrix` на вектор `C` і який результат буде. А потім виконайте множення і виведіть результат на екран.\n",
    "\n",
    "3. Задана матриця `D` розмірністю 2х2. Подумайте спочатку, яку розмірність Ви отрмаєте, коли домножите `result_matrix` на матрицю `D` і який результат буде. А потім виконайте множення і виведіть результат на екран."
   ]
  },
  {
   "cell_type": "code",
   "execution_count": 7,
   "metadata": {
    "id": "RwXfPzlbSJ44"
   },
   "outputs": [
    {
     "data": {
      "text/plain": [
       "array([[0.18, 0.53],\n",
       "       [0.75, 0.47],\n",
       "       [0.35, 0.21]])"
      ]
     },
     "metadata": {},
     "output_type": "display_data"
    },
    {
     "data": {
      "text/plain": [
       "array([[0.17, 0.58, 0.75],\n",
       "       [0.38, 0.11, 0.15]])"
      ]
     },
     "metadata": {},
     "output_type": "display_data"
    },
    {
     "data": {
      "text/plain": [
       "array([[0],\n",
       "       [1]])"
      ]
     },
     "metadata": {},
     "output_type": "display_data"
    },
    {
     "data": {
      "text/plain": [
       "array([[0, 1],\n",
       "       [1, 0]])"
      ]
     },
     "metadata": {},
     "output_type": "display_data"
    }
   ],
   "source": [
    "A = np.array(\n",
    "    [[0.18, 0.53],\n",
    "     [0.75, 0.47],\n",
    "     [0.35, 0.21]])\n",
    "\n",
    "B = np.array(\n",
    "    [[0.17, 0.58, 0.75],\n",
    "     [0.38, 0.11, 0.15]])\n",
    "\n",
    "C = np.array([[0], [1]])\n",
    "\n",
    "D = np.array([[0,1], [1,0]])\n",
    "\n",
    "display(A, B, C, D)"
   ]
  },
  {
   "cell_type": "markdown",
   "metadata": {},
   "source": [
    "###### 3.1. Задані дві матриці A і B розмірностями 3x2 та 2х3. Виконайте їхнє множення, щоб отримати матрицю 2x2. Виведіть результуючу матрицю result_matrix на екран."
   ]
  },
  {
   "cell_type": "code",
   "execution_count": 8,
   "metadata": {},
   "outputs": [
    {
     "name": "stdout",
     "output_type": "stream",
     "text": [
      "[[0.7281 0.5202]\n",
      " [0.2034 0.2846]]\n"
     ]
    }
   ],
   "source": [
    "result_matrix = np.dot(B, A)\n",
    "print(result_matrix)"
   ]
  },
  {
   "cell_type": "markdown",
   "metadata": {},
   "source": [
    "###### 3.2. Заданий вектор C розмірністю 2х1. Подумайте спочатку, яку розмірність Ви отрмаєте, коли домножите result_matrix на вектор C і який результат буде. А потім виконайте множення і виведіть результат на екран."
   ]
  },
  {
   "cell_type": "code",
   "execution_count": 9,
   "metadata": {},
   "outputs": [
    {
     "name": "stdout",
     "output_type": "stream",
     "text": [
      "[[0.5202]\n",
      " [0.2846]]\n"
     ]
    }
   ],
   "source": [
    "print(np.dot(result_matrix, C))"
   ]
  },
  {
   "cell_type": "markdown",
   "metadata": {},
   "source": [
    "###### 3.3. Задана матриця `D` розмірністю 2х2. Подумайте спочатку, яку розмірність Ви отрмаєте, коли домножите `result_matrix` на матрицю `D` і який результат буде. А потім виконайте множення і виведіть результат на екран."
   ]
  },
  {
   "cell_type": "code",
   "execution_count": 10,
   "metadata": {
    "id": "z7-boTbhVKkj"
   },
   "outputs": [
    {
     "name": "stdout",
     "output_type": "stream",
     "text": [
      "[[0.5202 0.7281]\n",
      " [0.2846 0.2034]]\n"
     ]
    }
   ],
   "source": [
    "print(np.dot(result_matrix, D))"
   ]
  },
  {
   "cell_type": "markdown",
   "metadata": {
    "id": "wohp0_cxSGpl"
   },
   "source": [
    "\n",
    "### Завдання 4: Транспонування матриць\n",
    "1. Транспонуйте `result_matrix`.\n",
    "2. Зробіть транспонування вектора `vector` і виведіть форму нової структури. Чи бачите ви зміну?\n",
    "3. Використайте операцію `numpy.expand_dims` над вектором `vector` з аргументом axis=1. Запишіть отриманий результат в змінну `column_vector` і виведіть на екран. Порівняйте з `vector`.\n",
    "4. Зробіть транспонування `column_vector`, виведіть результат на екран разом з розмірностями отриманої структури.\n",
    "\n",
    "\n"
   ]
  },
  {
   "cell_type": "markdown",
   "metadata": {},
   "source": [
    "###### 4.1. Транспонуйте result_matrix."
   ]
  },
  {
   "cell_type": "code",
   "execution_count": 11,
   "metadata": {
    "id": "4hFcq1baVLii"
   },
   "outputs": [
    {
     "name": "stdout",
     "output_type": "stream",
     "text": [
      "Оригінальна матриця result_matrix:\n",
      " [[0.7281 0.5202]\n",
      " [0.2034 0.2846]] \n",
      "\n",
      "Транспонована матриця result_matrix:\n",
      " [[0.7281 0.2034]\n",
      " [0.5202 0.2846]]\n"
     ]
    }
   ],
   "source": [
    "print('Оригінальна матриця result_matrix:\\n', result_matrix, '\\n')\n",
    "print('Транспонована матриця result_matrix:\\n', result_matrix.T)"
   ]
  },
  {
   "cell_type": "markdown",
   "metadata": {},
   "source": [
    "###### 4.2. Зробіть транспонування вектора vector і виведіть форму нової структури. Чи бачите ви зміну?"
   ]
  },
  {
   "cell_type": "code",
   "execution_count": 12,
   "metadata": {},
   "outputs": [
    {
     "name": "stdout",
     "output_type": "stream",
     "text": [
      "Оригінальний вектор та його форма:\n",
      "[0.27853795 0.69646725 0.25728151 0.49103396 0.71722705 0.6153129\n",
      " 0.49197864 0.77976055 0.7250365  0.2345969 ]\n",
      "(10,)\n",
      "\n",
      "Транспонований вектор та його форма:\n",
      "[0.27853795 0.69646725 0.25728151 0.49103396 0.71722705 0.6153129\n",
      " 0.49197864 0.77976055 0.7250365  0.2345969 ]\n",
      "(10,)\n"
     ]
    }
   ],
   "source": [
    "vector_T = vector.T\n",
    "print('Оригінальний вектор та його форма:', vector, vector.shape, sep = '\\n')\n",
    "print('\\nТранспонований вектор та його форма:', vector_T, vector_T.shape, sep = '\\n')"
   ]
  },
  {
   "cell_type": "markdown",
   "metadata": {},
   "source": [
    "Немає зміни у формі вектора vector розмірністю (10,) після операції транспонування."
   ]
  },
  {
   "cell_type": "markdown",
   "metadata": {},
   "source": [
    "###### 4.3. Використайте операцію numpy.expand_dims над вектором vector з аргументом axis=1. Запишіть отриманий результат в змінну column_vector і виведіть на екран. Порівняйте з vector."
   ]
  },
  {
   "cell_type": "code",
   "execution_count": 13,
   "metadata": {},
   "outputs": [
    {
     "name": "stdout",
     "output_type": "stream",
     "text": [
      "Вектор vector та його форма:\n",
      "[0.27853795 0.69646725 0.25728151 0.49103396 0.71722705 0.6153129\n",
      " 0.49197864 0.77976055 0.7250365  0.2345969 ]\n",
      "(10,)\n",
      "\n",
      "Вектор column_vector та його форма:\n",
      "[[0.27853795]\n",
      " [0.69646725]\n",
      " [0.25728151]\n",
      " [0.49103396]\n",
      " [0.71722705]\n",
      " [0.6153129 ]\n",
      " [0.49197864]\n",
      " [0.77976055]\n",
      " [0.7250365 ]\n",
      " [0.2345969 ]]\n",
      "(10, 1)\n"
     ]
    }
   ],
   "source": [
    "column_vector = np.expand_dims(vector, axis=1)\n",
    "\n",
    "print('Вектор vector та його форма:', vector, vector.shape, sep = '\\n')\n",
    "print('\\nВектор column_vector та його форма:', column_vector, column_vector.shape, sep = '\\n')\n"
   ]
  },
  {
   "cell_type": "markdown",
   "metadata": {},
   "source": [
    "Оригінальний вектор **vector** - це вектор-рядок з розмірністю (10,).\n",
    "\n",
    "Вектор **column_vector** - це вектор-стовпець з розмірністю (10, 1)."
   ]
  },
  {
   "cell_type": "markdown",
   "metadata": {},
   "source": [
    "###### 4.4. Зробіть транспонування column_vector, виведіть результат на екран разом з розмірностями отриманої структури."
   ]
  },
  {
   "cell_type": "code",
   "execution_count": 14,
   "metadata": {},
   "outputs": [
    {
     "name": "stdout",
     "output_type": "stream",
     "text": [
      "\n",
      "Транспонований вектор column_vector та його форма:\n",
      "[[0.27853795 0.69646725 0.25728151 0.49103396 0.71722705 0.6153129\n",
      "  0.49197864 0.77976055 0.7250365  0.2345969 ]]\n",
      "(1, 10)\n"
     ]
    }
   ],
   "source": [
    "column_vector_T = column_vector.T\n",
    "\n",
    "print('\\nТранспонований вектор column_vector та його форма:', column_vector_T, column_vector_T.shape, sep = '\\n')"
   ]
  },
  {
   "cell_type": "code",
   "execution_count": null,
   "metadata": {},
   "outputs": [],
   "source": []
  }
 ],
 "metadata": {
  "colab": {
   "provenance": []
  },
  "kernelspec": {
   "display_name": "Python 3 (ipykernel)",
   "language": "python",
   "name": "python3"
  },
  "language_info": {
   "codemirror_mode": {
    "name": "ipython",
    "version": 3
   },
   "file_extension": ".py",
   "mimetype": "text/x-python",
   "name": "python",
   "nbconvert_exporter": "python",
   "pygments_lexer": "ipython3",
   "version": "3.13.1"
  }
 },
 "nbformat": 4,
 "nbformat_minor": 4
}
