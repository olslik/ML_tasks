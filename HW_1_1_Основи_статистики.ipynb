{
 "cells": [
  {
   "cell_type": "markdown",
   "metadata": {
    "id": "SDhaTqxcWhnP"
   },
   "source": [
    "В цьому домашньому завданні відпрацюємо з вами знання, отримані в модулі зі статистики.\n",
    "\n",
    "**Завдання 1.** Ми обговорили з Вами на лекції, що велика літера Сігма грецького алфавіту позначає в математиці суму. Знайдіть з використанням Python $\\Sigma x$, $\\Sigma x^2$, та $\\Sigma (x-1)^2$ для наступного набору даних:\n",
    "`1 3 4`\n",
    "Виведіть результат кожного обчислення на екран."
   ]
  },
  {
   "cell_type": "code",
   "execution_count": 1,
   "metadata": {
    "id": "B1mgx_IBT0e8"
   },
   "outputs": [
    {
     "data": {
      "text/plain": [
       "[1, 3, 4]"
      ]
     },
     "execution_count": 1,
     "metadata": {},
     "output_type": "execute_result"
    }
   ],
   "source": [
    "my_list = [1, 3, 4]\n",
    "my_list"
   ]
  },
  {
   "cell_type": "code",
   "execution_count": 2,
   "metadata": {},
   "outputs": [
    {
     "data": {
      "text/plain": [
       "8"
      ]
     },
     "execution_count": 2,
     "metadata": {},
     "output_type": "execute_result"
    }
   ],
   "source": [
    "my_list_sum_1 = sum(my_list)\n",
    "my_list_sum_1"
   ]
  },
  {
   "cell_type": "code",
   "execution_count": 3,
   "metadata": {},
   "outputs": [
    {
     "data": {
      "text/plain": [
       "26"
      ]
     },
     "execution_count": 3,
     "metadata": {},
     "output_type": "execute_result"
    }
   ],
   "source": [
    "my_list_sum_2 = sum([x**2 for x in my_list])\n",
    "my_list_sum_2"
   ]
  },
  {
   "cell_type": "code",
   "execution_count": 4,
   "metadata": {},
   "outputs": [
    {
     "data": {
      "text/plain": [
       "13"
      ]
     },
     "execution_count": 4,
     "metadata": {},
     "output_type": "execute_result"
    }
   ],
   "source": [
    "my_list_sum_3 = sum([(x-1)**2 for x in my_list])\n",
    "my_list_sum_3"
   ]
  },
  {
   "cell_type": "markdown",
   "metadata": {
    "id": "fa78aW5lhiia"
   },
   "source": [
    "**Завдання 2.** Ми зібрали дані про суму покупок в гривнях 20ма випадково обраними клієнтами в нашому магазині (всього клієнтів у нас більше) за минулий місяць. Вони представлені в змінній `sum_purchases`. Знайдіть **вибіркове середнє** для цих даних кожним з зазначених методів:   \n",
    "\n",
    "  2.1. без використання жодних бібліотек, користуючись тільки Python.  \n",
    "  2.2. використовуючи відповідний метод бібліотеки `numpy`.\n",
    "\n",
    "  Виведіть результат обчислень в кожному з випадків на екран та порівняйте результати. Вони співпадають?"
   ]
  },
  {
   "cell_type": "code",
   "execution_count": 5,
   "metadata": {
    "id": "_9kMt3rq6V5m"
   },
   "outputs": [],
   "source": [
    "sum_purchases = [ 316,  493,  367,  153,  224,  121,  322,  450,  196,  397,  281,\n",
    "  239,  484,  124,  223,  448,  432,  255, 4310, 3524]"
   ]
  },
  {
   "cell_type": "code",
   "execution_count": 6,
   "metadata": {},
   "outputs": [],
   "source": [
    "import numpy as np"
   ]
  },
  {
   "cell_type": "code",
   "execution_count": 7,
   "metadata": {
    "id": "wPmL919HT1c0"
   },
   "outputs": [
    {
     "name": "stdout",
     "output_type": "stream",
     "text": [
      "\n",
      "Вибіркове середнє, обчислене без використання жодних бібліотек, користуючись тільки Python:\t 667.95\n",
      "Вибіркове середнє, обчислене з використанням бібліотеки numpy:\t\t\t\t\t 667.95 \n",
      "\n"
     ]
    }
   ],
   "source": [
    "# Python only\n",
    "sum_purchases_mean_1 = sum(sum_purchases) / len(sum_purchases)\n",
    "\n",
    "# numpy\n",
    "sum_purchases_mean_2 = np.mean(sum_purchases)\n",
    "\n",
    "print(f'\\nВибіркове середнє, обчислене без використання жодних бібліотек, користуючись тільки Python:\\t {sum_purchases_mean_1}')\n",
    "print(f'Вибіркове середнє, обчислене з використанням бібліотеки numpy:\\t\\t\\t\\t\\t {sum_purchases_mean_2} \\n')"
   ]
  },
  {
   "cell_type": "markdown",
   "metadata": {
    "id": "FMdoxZd0kZdW"
   },
   "source": [
    "**Завдання 3.** Для того ж набору даних в змінній `sum_purchases` обчисліть **медіану** кожним з зазначених методів:  \n",
    "\n",
    "  3.1. без використання жодних бібліотек, користуючись тільки Python.  \n",
    "  3.2. використовуючи відповідний метод бібліотеки numpy.  \n",
    "\n",
    "Виведіть результат обчислень в кожному з випадків на екран. Порівняйте результати зі значенням вибіркового середнього. Напишіть коментар, для яких задач ви б використовували вибіркове середнє, а для яких - медіану?"
   ]
  },
  {
   "cell_type": "code",
   "execution_count": 8,
   "metadata": {
    "id": "x58BumvuT2nl"
   },
   "outputs": [
    {
     "name": "stdout",
     "output_type": "stream",
     "text": [
      "\n",
      "Медіана, обчислена без використання жодних бібліотек, користуючись тільки Python:\t 319.0\n",
      "Медіана, обчислена з використанням бібліотеки numpy:\t\t\t\t\t 319.0 \n",
      "\n"
     ]
    }
   ],
   "source": [
    "# Python only\n",
    "if len(sum_purchases)%2==0:\n",
    "    sum_purchases_median_1 = (sorted(sum_purchases)[len(sum_purchases)//2-1] + sorted(sum_purchases)[len(sum_purchases)//2])/2\n",
    "else:\n",
    "    sum_purchases_median_1 = sorted(sum_purchases)[len(sum_purchases)//2]\n",
    "\n",
    "# numpy\n",
    "sum_purchases_median_2 = np.median(sum_purchases)\n",
    "\n",
    "print(f'\\nМедіана, обчислена без використання жодних бібліотек, користуючись тільки Python:\\t {sum_purchases_median_1}')\n",
    "print(f'Медіана, обчислена з використанням бібліотеки numpy:\\t\\t\\t\\t\\t {sum_purchases_median_2} \\n')"
   ]
  },
  {
   "cell_type": "markdown",
   "metadata": {},
   "source": [
    "**Порівняння значень вибіркового середнього і медіани**"
   ]
  },
  {
   "cell_type": "code",
   "execution_count": 9,
   "metadata": {},
   "outputs": [
    {
     "data": {
      "image/png": "[encoded data removed]",
      "text/plain": [
       "<Figure size 640x480 with 1 Axes>"
      ]
     },
     "metadata": {},
     "output_type": "display_data"
    }
   ],
   "source": [
    "import matplotlib.pyplot as plt\n",
    "\n",
    "plt.plot(sum_purchases, 'o')\n",
    "plt.axhline(y=sum_purchases_mean_1, color='g', linestyle='--', linewidth=2)\n",
    "plt.text(len(sum_purchases)-5, sum_purchases_mean_1+50, 'mean = '+str(sum_purchases_mean_1), color='g')\n",
    "plt.axhline(y=sum_purchases_median_1, color='r', linestyle='--', linewidth=2)\n",
    "plt.text(len(sum_purchases)-5, sum_purchases_median_1-180, 'median = '+str(sum_purchases_median_1), color='r');"
   ]
  },
  {
   "cell_type": "markdown",
   "metadata": {},
   "source": [
    "Як ми можемо бачити, вибіркове середнє (**667.95**) вдвічі більше за медіану виборки (**319.0**) і більше майже за всі елементи виборки крім двох викидів, які власне і є причиною того, що середнє не відображає очікувану центральну тенденцію цієї вибірки. В нашому випадку краще провести додаткові дослідження, щоб зрозуміти, чи ці екстремальні значення насправді є викидами, які не відображають центральну тенденцію і навряд чи повторяться в майбутньому, тоді доцільно використувати медіану для прогнозування середнього значення. Або можливо ці дані відносяться до клієнтів, яких можна виділити в окремий сегмент.\n",
    "\n",
    "Медіану краще використовувати для оцінки потенційного середнього значення для вибірок, в яких присутні викиди або асиметрично розподілені дані.\n",
    "Вибіркове середнє є кращою мірою центральної тенденції для даних, які близькі за значенням, нормально розподілених даних без значної асиметрії та викидів."
   ]
  },
  {
   "cell_type": "markdown",
   "metadata": {
    "id": "o1Z7az2yNDQV"
   },
   "source": [
    "**Завдання 4**. Обчислість стандартне відхилення наведеної вибірки в змінній `sum_purchases` кожним з зазначених методів:  \n",
    "\n",
    "  4.1. без використання жодних бібліотек, користуючись тільки Python.  \n",
    "  4.2. використовуючи відповідний метод бібліотеки numpy.  \n",
    "\n",
    "Виведіть результат обчислень в кожному з випадків на екран."
   ]
  },
  {
   "cell_type": "code",
   "execution_count": 10,
   "metadata": {
    "id": "X4ixtmL2T642"
   },
   "outputs": [
    {
     "name": "stdout",
     "output_type": "stream",
     "text": [
      "\n",
      "Стандартне відхилення вибірки sum_purchases, обчислене без використання жодних бібліотек, користуючись тільки Python:\t 1124.5433447451132\n",
      "Стандартне відхилення вибірки sum_purchases, обчислене з використанням бібліотеки numpy:\t\t\t\t 1124.5433447451132 \n",
      "\n"
     ]
    }
   ],
   "source": [
    "# Python only\n",
    "\n",
    "def std_sample(x: list):\n",
    "    x_mean = sum(x)/len(x)\n",
    "    x_minus_mean = [(el - x_mean)**2 for el in x]\n",
    "    std_sample = np.sqrt(sum(x_minus_mean)/(len(x)-1))\n",
    "    return std_sample\n",
    "\n",
    "sum_purchases_std_1 = std_sample(sum_purchases)\n",
    "\n",
    "# numpy\n",
    "sum_purchases_std_2 = np.std(sum_purchases, ddof = 1)\n",
    "\n",
    "print(f'\\nСтандартне відхилення вибірки sum_purchases, обчислене без використання жодних бібліотек, користуючись тільки Python:\\t {sum_purchases_std_1}')\n",
    "print(f'Стандартне відхилення вибірки sum_purchases, обчислене з використанням бібліотеки numpy:\\t\\t\\t\\t {sum_purchases_std_2} \\n')"
   ]
  },
  {
   "cell_type": "markdown",
   "metadata": {
    "id": "M1ntKTjXLVlH"
   },
   "source": [
    "**Завдання 5**. Ми провели дослідження віку студентів-першокурсників. Виявилось, що\n",
    "- 10 студентів мають вік 16 років\n",
    "- 25 студентів - 17 років\n",
    "- 20 студентів - 18 років\n",
    "- 2 студенти - 20 років\n",
    "\n",
    "Обчислість середнє значення для цієї вибірки будь-яким способом - на чистому Python або з numpy - та виведіть результат на екран."
   ]
  },
  {
   "cell_type": "code",
   "execution_count": 11,
   "metadata": {
    "id": "RdIU4M-7T8R4"
   },
   "outputs": [
    {
     "name": "stdout",
     "output_type": "stream",
     "text": [
      "[16, 16, 16, 16, 16, 16, 16, 16, 16, 16, 17, 17, 17, 17, 17, 17, 17, 17, 17, 17, 17, 17, 17, 17, 17, 17, 17, 17, 17, 17, 17, 17, 17, 17, 17, 18, 18, 18, 18, 18, 18, 18, 18, 18, 18, 18, 18, 18, 18, 18, 18, 18, 18, 18, 18, 20, 20]\n",
      "\n",
      "Середній вік студентів-першокурсників: 17.28\n",
      "\n"
     ]
    }
   ],
   "source": [
    "ages = [16]*10 + [17]*25 + [18]*20 + [20]*2\n",
    "print(ages)\n",
    "print(f'\\nСередній вік студентів-першокурсників: {np.mean(ages).round(2)}\\n')"
   ]
  },
  {
   "cell_type": "markdown",
   "metadata": {
    "id": "Xx8MFkkVM53z"
   },
   "source": [
    "**Завдання 6**. Крім даних про суму покупок, ми зібрали ще дані про кількість відвідувань кожного з кожного покупця, які знаходяться в змінній `visits`. Обчисліть коефіцієнт кореляції Пірсона для суми покупок і кількості відвідувань кожним з зазначених методів:  \n",
    "\n",
    "  6.1. без використання жодних бібліотек, користуючись тільки Python.  \n",
    "  6.2. використовуючи відповідний метод бібліотеки numpy.  \n",
    "  \n",
    "Виведіть результат на екран. Проаналізуйте результат.\n",
    "\n",
    "Виведіть додатково графік розсіювання викликавши код нижче і зробіть заключення, чи варто щось змінити при підрахунку кореляції, аби коефіцієнт Пірсона показував коректну оцінку лінійної залежності?"
   ]
  },
  {
   "cell_type": "code",
   "execution_count": 12,
   "metadata": {
    "id": "4OIGBT7UOWhO"
   },
   "outputs": [],
   "source": [
    "visits = [ 6,  2, 10,  3,  9,  9,  2,  3,  6,  6, 10,  2,  5, 10,  3,  5,  4,\n",
    "        7,  4,  2]"
   ]
  },
  {
   "cell_type": "code",
   "execution_count": 13,
   "metadata": {
    "id": "YLNF7VbeT97Q"
   },
   "outputs": [
    {
     "name": "stdout",
     "output_type": "stream",
     "text": [
      "\n",
      "Коефіцієнт кореляції Пірсона для sum_purchases та visits, обчислений без використання жодних бібліотек, користуючись тільки Python: \n",
      "-0.30265845\n",
      "\n",
      "Коефіцієнт кореляції Пірсона для sum_purchases та visits, обчислений з використанням бібліотеки numpy (матриця кореляції): \n",
      "[[ 1.         -0.30265845]\n",
      " [-0.30265845  1.        ]] \n",
      "\n"
     ]
    }
   ],
   "source": [
    "# Python\n",
    " \n",
    "visits_mean = sum(visits) / len(visits)\n",
    "\n",
    "sum_purchases_visits = [(sum_purchases[i] - sum_purchases_mean_1)*(visits[i] - visits_mean) for i in range(len(sum_purchases))]\n",
    "\n",
    "cov_sum_purchases_visits = sum(sum_purchases_visits)/(len(sum_purchases_visits)-1)\n",
    "\n",
    "corr_purchases_visits_1 = cov_sum_purchases_visits / (std_sample(sum_purchases) * std_sample(visits))\n",
    "\n",
    "# numpy\n",
    "\n",
    "corr_purchases_visits_2 = np.corrcoef(sum_purchases, visits)\n",
    "\n",
    "print(f'\\nКоефіцієнт кореляції Пірсона для sum_purchases та visits, обчислений без використання жодних бібліотек, користуючись тільки Python:',\n",
    "            f'\\n{round(corr_purchases_visits_1,8)}')\n",
    "print(f'\\nКоефіцієнт кореляції Пірсона для sum_purchases та visits, обчислений з використанням бібліотеки numpy (матриця кореляції):',\n",
    "            f'\\n{corr_purchases_visits_2} \\n')"
   ]
  },
  {
   "cell_type": "code",
   "execution_count": 14,
   "metadata": {
    "colab": {
     "base_uri": "https://localhost:8080/",
     "height": 472
    },
    "id": "gaeoGA-5Prr1",
    "outputId": "0c910a7f-0e96-449a-881d-1efa453b3c8d"
   },
   "outputs": [
    {
     "data": {
      "image/png": "[encoded data removed]",
      "text/plain": [
       "<Figure size 640x480 with 1 Axes>"
      ]
     },
     "metadata": {},
     "output_type": "display_data"
    }
   ],
   "source": [
    "import matplotlib.pyplot as plt\n",
    "\n",
    "plt.scatter(sum_purchases, visits)\n",
    "plt.title('Scatter Plot of Purchases vs. Visits')\n",
    "plt.xlabel('Sum of Purchases')\n",
    "plt.ylabel('Number of Visits');"
   ]
  },
  {
   "cell_type": "markdown",
   "metadata": {},
   "source": [
    "**Висновок.** Обчислений коефіцієнт кореляції Пірсона **(-0.30265845)** свідчить про слабку від'ємну кореляцію між сумою покупок і кількістю візитів. Але на графіку розсіювання ми бачимо 2 викиди у вибірці з сумами покупок, які потенційно можуть заважати отримати коректне значення кореляції.  "
   ]
  },
  {
   "cell_type": "markdown",
   "metadata": {
    "id": "4pEg0KzSQ6KA"
   },
   "source": [
    "**Завдання 7**. В попередньому завданні ми помітили, що викиди нам заважають отримати \"правдиве\" значення кореляції. Давайте вилучимо записи, які відповідають значенням з викидами в сумі покупок і обчисліть коеф. кореляції. Для цього поставте `threshold`, який дорінює середньому значенню + 2 стандартних вдіхилля суми покупок і всі значення, які більше за нього, будемо вважати викидами (є і інші правила для визначення викидів - з ним и познайомимось пізніше).\n",
    "\n",
    "Вилучіть значення з обох масивів і обчисліть коеф. кореляції Пірсона з допомогою `numpy` для кількості візитів і суми покупок без записів-викидів. Виведіть результат на екран, побудуйте діаграму розсіювання і проаналізуйте результат: що можемо сказати про залежність в даних?"
   ]
  },
  {
   "cell_type": "code",
   "execution_count": 15,
   "metadata": {
    "id": "Yj3Yfaf7UBbc"
   },
   "outputs": [
    {
     "name": "stdout",
     "output_type": "stream",
     "text": [
      "[316, 493, 367, 153, 224, 121, 322, 450, 196, 397, 281, 239, 484, 124, 223, 448, 432, 255]\n",
      "[6, 2, 10, 3, 9, 9, 2, 3, 6, 6, 10, 2, 5, 10, 3, 5, 4, 7]\n",
      "\n",
      " [[ 1.         -0.36852121]\n",
      " [-0.36852121  1.        ]]\n"
     ]
    }
   ],
   "source": [
    "threshold = sum_purchases_mean_1 + 2*sum_purchases_std_1\n",
    "sum_purchases_clean = []\n",
    "visits_clean = []\n",
    "for i in range(len(sum_purchases)):\n",
    "    if sum_purchases[i]<=threshold:\n",
    "        sum_purchases_clean.append(sum_purchases[i])\n",
    "        visits_clean.append(visits[i])\n",
    "\n",
    "corr_purchases_visits_clean = np.corrcoef(sum_purchases_clean, visits_clean)\n",
    "\n",
    "print(sum_purchases_clean)\n",
    "print(visits_clean)\n",
    "print('\\n', corr_purchases_visits_clean)\n",
    "    "
   ]
  },
  {
   "cell_type": "code",
   "execution_count": 16,
   "metadata": {},
   "outputs": [
    {
     "data": {
      "image/png": "[encoded data removed]",
      "text/plain": [
       "<Figure size 640x480 with 1 Axes>"
      ]
     },
     "metadata": {},
     "output_type": "display_data"
    }
   ],
   "source": [
    "plt.scatter(sum_purchases_clean, visits_clean)\n",
    "plt.title('Scatter Plot of Purchases vs. Visits w/o outliers')\n",
    "plt.xlabel('Sum of Purchases')\n",
    "plt.ylabel('Number of Visits')\n",
    "plt.text(max(sum_purchases_clean)*0.8, max(visits_clean)*0.95, 'corr.coef. = '+str(corr_purchases_visits_clean[0,1].round(4)), color='r');"
   ]
  },
  {
   "cell_type": "markdown",
   "metadata": {},
   "source": [
    "**Висновок.** Ми бачимо, що після вилучення викидів коефіцієнт кореляції Пірсона змінився лише незначно і все ще показує слабку кореляцію між сумою покупок і кількістю візитів. Тобто ми не можемо стверджувати, що існує висока лінійна залежність між кількістю візитів і сумою покупок. Але враховуючи те, що вибірка маленька за розміром, можливо необхідно провести додаткові дослідження на більшій кількості покупців."
   ]
  },
  {
   "cell_type": "code",
   "execution_count": null,
   "metadata": {},
   "outputs": [],
   "source": []
  }
 ],
 "metadata": {
  "colab": {
   "provenance": []
  },
  "kernelspec": {
   "display_name": "Python 3 (ipykernel)",
   "language": "python",
   "name": "python3"
  },
  "language_info": {
   "codemirror_mode": {
    "name": "ipython",
    "version": 3
   },
   "file_extension": ".py",
   "mimetype": "text/x-python",
   "name": "python",
   "nbconvert_exporter": "python",
   "pygments_lexer": "ipython3",
   "version": "3.13.1"
  }
 },
 "nbformat": 4,
 "nbformat_minor": 4
}
